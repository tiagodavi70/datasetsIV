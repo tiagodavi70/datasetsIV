{
 "cells": [
  {
   "cell_type": "markdown",
   "metadata": {},
   "source": [
    "# Meteoros brilhantes - Exemplo prático 1"
   ]
  },
  {
   "cell_type": "markdown",
   "metadata": {},
   "source": [
    "As bolas de fogo e os sólidos são termos astronómicos para meteoros excepcionalmente brilhantes que são espetaculares o suficiente para serem vistos numa área muito vasta. [Um conjunto de dados da NASA](https://www.kaggle.com/nasa/fireballs) registra os eventos mais vísiveis, e permite que a gente levante algumas questões interessante:\n",
    "* Existe algum padrão na velocidade dos meteoritos?\n",
    "* A altitude percebida na hora de maior brilho influencia na energia?"
   ]
  },
  {
   "cell_type": "markdown",
   "metadata": {},
   "source": [
    "Vamos importar nossas bibliotecas para responder essas perguntas."
   ]
  },
  {
   "cell_type": "code",
   "execution_count": 1,
   "metadata": {},
   "outputs": [],
   "source": [
    "import pandas as pd\n",
    "import altair as alt"
   ]
  },
  {
   "cell_type": "code",
   "execution_count": 2,
   "metadata": {},
   "outputs": [],
   "source": [
    "url = \"https://raw.githubusercontent.com/tiagodavi70/nasaFireballs/master/cneos_fireball_data.csv\""
   ]
  },
  {
   "cell_type": "code",
   "execution_count": 3,
   "metadata": {},
   "outputs": [],
   "source": [
    "df = pd.read_csv(\"https://raw.githubusercontent.com/tiagodavi70/nasaFireballs/master/cneos_fireball_data.csv\")"
   ]
  },
  {
   "cell_type": "markdown",
   "metadata": {},
   "source": [
    "## Existe algum padrão na velocidade dos meteoritos?"
   ]
  },
  {
   "cell_type": "markdown",
   "metadata": {},
   "source": [
    "A velocidade registrada dos meteoritos pode ser apresentada de forma agrupada, com um histograma simples."
   ]
  },
  {
   "cell_type": "code",
   "execution_count": 4,
   "metadata": {},
   "outputs": [
    {
     "data": {
      "text/html": [
       "\n",
       "<div id=\"altair-viz-8ccd95f365564eedaf160d5fe8be5cfc\"></div>\n",
       "<script type=\"text/javascript\">\n",
       "  (function(spec, embedOpt){\n",
       "    let outputDiv = document.currentScript.previousElementSibling;\n",
       "    if (outputDiv.id !== \"altair-viz-8ccd95f365564eedaf160d5fe8be5cfc\") {\n",
       "      outputDiv = document.getElementById(\"altair-viz-8ccd95f365564eedaf160d5fe8be5cfc\");\n",
       "    }\n",
       "    const paths = {\n",
       "      \"vega\": \"https://cdn.jsdelivr.net/npm//vega@5?noext\",\n",
       "      \"vega-lib\": \"https://cdn.jsdelivr.net/npm//vega-lib?noext\",\n",
       "      \"vega-lite\": \"https://cdn.jsdelivr.net/npm//vega-lite@4.8.1?noext\",\n",
       "      \"vega-embed\": \"https://cdn.jsdelivr.net/npm//vega-embed@6?noext\",\n",
       "    };\n",
       "\n",
       "    function loadScript(lib) {\n",
       "      return new Promise(function(resolve, reject) {\n",
       "        var s = document.createElement('script');\n",
       "        s.src = paths[lib];\n",
       "        s.async = true;\n",
       "        s.onload = () => resolve(paths[lib]);\n",
       "        s.onerror = () => reject(`Error loading script: ${paths[lib]}`);\n",
       "        document.getElementsByTagName(\"head\")[0].appendChild(s);\n",
       "      });\n",
       "    }\n",
       "\n",
       "    function showError(err) {\n",
       "      outputDiv.innerHTML = `<div class=\"error\" style=\"color:red;\">${err}</div>`;\n",
       "      throw err;\n",
       "    }\n",
       "\n",
       "    function displayChart(vegaEmbed) {\n",
       "      vegaEmbed(outputDiv, spec, embedOpt)\n",
       "        .catch(err => showError(`Javascript Error: ${err.message}<br>This usually means there's a typo in your chart specification. See the javascript console for the full traceback.`));\n",
       "    }\n",
       "\n",
       "    if(typeof define === \"function\" && define.amd) {\n",
       "      requirejs.config({paths});\n",
       "      require([\"vega-embed\"], displayChart, err => showError(`Error loading script: ${err.message}`));\n",
       "    } else if (typeof vegaEmbed === \"function\") {\n",
       "      displayChart(vegaEmbed);\n",
       "    } else {\n",
       "      loadScript(\"vega\")\n",
       "        .then(() => loadScript(\"vega-lite\"))\n",
       "        .then(() => loadScript(\"vega-embed\"))\n",
       "        .catch(showError)\n",
       "        .then(() => displayChart(vegaEmbed));\n",
       "    }\n",
       "  })({\"config\": {\"view\": {\"continuousWidth\": 400, \"continuousHeight\": 300}}, \"data\": {\"url\": \"https://raw.githubusercontent.com/tiagodavi70/nasaFireballs/master/cneos_fireball_data.csv\"}, \"mark\": \"bar\", \"encoding\": {\"color\": {\"value\": \"SandyBrown\"}, \"x\": {\"type\": \"quantitative\", \"bin\": true, \"field\": \"Velocity (km/s)\", \"title\": \"Velocidade em km/s\"}, \"y\": {\"type\": \"quantitative\", \"aggregate\": \"count\", \"title\": \"Contagem\"}}, \"$schema\": \"https://vega.github.io/schema/vega-lite/v4.8.1.json\"}, {\"mode\": \"vega-lite\"});\n",
       "</script>"
      ],
      "text/plain": [
       "alt.Chart(...)"
      ]
     },
     "execution_count": 4,
     "metadata": {},
     "output_type": "execute_result"
    }
   ],
   "source": [
    "histograma_velocidade = alt.Chart(url).mark_bar().encode(\n",
    "    alt.X(\"Velocity (km/s):Q\", bin=True, title=\"Velocidade em km/s\"),\n",
    "    alt.Y(\"count()\", title=\"Contagem\"),\n",
    "    color=alt.value(\"SandyBrown\")\n",
    ")\n",
    "histograma_velocidade"
   ]
  },
  {
   "cell_type": "markdown",
   "metadata": {},
   "source": [
    "Existe uma distribuição quase normal, com alguma asimetria. Podemos adicionar as datas em que foram registradas, para tentar relacionar a velocidade durante os anos."
   ]
  },
  {
   "cell_type": "code",
   "execution_count": 5,
   "metadata": {},
   "outputs": [
    {
     "data": {
      "text/html": [
       "\n",
       "<div id=\"altair-viz-5a13096c476d4b74927408d4635ebb68\"></div>\n",
       "<script type=\"text/javascript\">\n",
       "  (function(spec, embedOpt){\n",
       "    let outputDiv = document.currentScript.previousElementSibling;\n",
       "    if (outputDiv.id !== \"altair-viz-5a13096c476d4b74927408d4635ebb68\") {\n",
       "      outputDiv = document.getElementById(\"altair-viz-5a13096c476d4b74927408d4635ebb68\");\n",
       "    }\n",
       "    const paths = {\n",
       "      \"vega\": \"https://cdn.jsdelivr.net/npm//vega@5?noext\",\n",
       "      \"vega-lib\": \"https://cdn.jsdelivr.net/npm//vega-lib?noext\",\n",
       "      \"vega-lite\": \"https://cdn.jsdelivr.net/npm//vega-lite@4.8.1?noext\",\n",
       "      \"vega-embed\": \"https://cdn.jsdelivr.net/npm//vega-embed@6?noext\",\n",
       "    };\n",
       "\n",
       "    function loadScript(lib) {\n",
       "      return new Promise(function(resolve, reject) {\n",
       "        var s = document.createElement('script');\n",
       "        s.src = paths[lib];\n",
       "        s.async = true;\n",
       "        s.onload = () => resolve(paths[lib]);\n",
       "        s.onerror = () => reject(`Error loading script: ${paths[lib]}`);\n",
       "        document.getElementsByTagName(\"head\")[0].appendChild(s);\n",
       "      });\n",
       "    }\n",
       "\n",
       "    function showError(err) {\n",
       "      outputDiv.innerHTML = `<div class=\"error\" style=\"color:red;\">${err}</div>`;\n",
       "      throw err;\n",
       "    }\n",
       "\n",
       "    function displayChart(vegaEmbed) {\n",
       "      vegaEmbed(outputDiv, spec, embedOpt)\n",
       "        .catch(err => showError(`Javascript Error: ${err.message}<br>This usually means there's a typo in your chart specification. See the javascript console for the full traceback.`));\n",
       "    }\n",
       "\n",
       "    if(typeof define === \"function\" && define.amd) {\n",
       "      requirejs.config({paths});\n",
       "      require([\"vega-embed\"], displayChart, err => showError(`Error loading script: ${err.message}`));\n",
       "    } else if (typeof vegaEmbed === \"function\") {\n",
       "      displayChart(vegaEmbed);\n",
       "    } else {\n",
       "      loadScript(\"vega\")\n",
       "        .then(() => loadScript(\"vega-lite\"))\n",
       "        .then(() => loadScript(\"vega-embed\"))\n",
       "        .catch(showError)\n",
       "        .then(() => displayChart(vegaEmbed));\n",
       "    }\n",
       "  })({\"config\": {\"view\": {\"continuousWidth\": 400, \"continuousHeight\": 300}}, \"data\": {\"url\": \"https://raw.githubusercontent.com/tiagodavi70/nasaFireballs/master/cneos_fireball_data.csv\"}, \"mark\": {\"type\": \"line\", \"opacity\": 0.5, \"point\": true}, \"encoding\": {\"color\": {\"value\": \"SandyBrown\"}, \"tooltip\": [{\"type\": \"quantitative\", \"aggregate\": \"mean\", \"field\": \"Velocity (km/s)\"}], \"x\": {\"type\": \"temporal\", \"field\": \"Peak Brightness Date/Time (UT)\", \"title\": \"\"}, \"y\": {\"type\": \"quantitative\", \"field\": \"Velocity (km/s)\", \"title\": \"Velocidade em km/s\"}}, \"transform\": [{\"filter\": \"datum[\\\"Velocity (km/s)\\\"] !== \\\"\\\"\"}], \"$schema\": \"https://vega.github.io/schema/vega-lite/v4.8.1.json\"}, {\"mode\": \"vega-lite\"});\n",
       "</script>"
      ],
      "text/plain": [
       "alt.Chart(...)"
      ]
     },
     "execution_count": 5,
     "metadata": {},
     "output_type": "execute_result"
    }
   ],
   "source": [
    "alt.Chart(url).mark_line(opacity=.5, point=True).encode(\n",
    "    alt.X(\"Peak Brightness Date/Time (UT):T\", title=\"\"),\n",
    "    alt.Y(\"Velocity (km/s):Q\", title=\"Velocidade em km/s\"),\n",
    "    color=alt.value(\"SandyBrown\"),\n",
    "    tooltip=[\"mean(Velocity (km/s)):Q\"]\n",
    ").transform_filter(\n",
    "    'datum[\"Velocity (km/s)\"] !== \\\"\\\"' # removendo valores vazios\n",
    ")"
   ]
  },
  {
   "cell_type": "markdown",
   "metadata": {},
   "source": [
    "Conseguimos ver um conjunto de pontos agrupados de maneira geral, mas será que existe sazonalidade?"
   ]
  },
  {
   "cell_type": "code",
   "execution_count": 6,
   "metadata": {},
   "outputs": [
    {
     "data": {
      "text/html": [
       "\n",
       "<div id=\"altair-viz-af35d28302d9441ab9b72411e66a4c26\"></div>\n",
       "<script type=\"text/javascript\">\n",
       "  (function(spec, embedOpt){\n",
       "    let outputDiv = document.currentScript.previousElementSibling;\n",
       "    if (outputDiv.id !== \"altair-viz-af35d28302d9441ab9b72411e66a4c26\") {\n",
       "      outputDiv = document.getElementById(\"altair-viz-af35d28302d9441ab9b72411e66a4c26\");\n",
       "    }\n",
       "    const paths = {\n",
       "      \"vega\": \"https://cdn.jsdelivr.net/npm//vega@5?noext\",\n",
       "      \"vega-lib\": \"https://cdn.jsdelivr.net/npm//vega-lib?noext\",\n",
       "      \"vega-lite\": \"https://cdn.jsdelivr.net/npm//vega-lite@4.8.1?noext\",\n",
       "      \"vega-embed\": \"https://cdn.jsdelivr.net/npm//vega-embed@6?noext\",\n",
       "    };\n",
       "\n",
       "    function loadScript(lib) {\n",
       "      return new Promise(function(resolve, reject) {\n",
       "        var s = document.createElement('script');\n",
       "        s.src = paths[lib];\n",
       "        s.async = true;\n",
       "        s.onload = () => resolve(paths[lib]);\n",
       "        s.onerror = () => reject(`Error loading script: ${paths[lib]}`);\n",
       "        document.getElementsByTagName(\"head\")[0].appendChild(s);\n",
       "      });\n",
       "    }\n",
       "\n",
       "    function showError(err) {\n",
       "      outputDiv.innerHTML = `<div class=\"error\" style=\"color:red;\">${err}</div>`;\n",
       "      throw err;\n",
       "    }\n",
       "\n",
       "    function displayChart(vegaEmbed) {\n",
       "      vegaEmbed(outputDiv, spec, embedOpt)\n",
       "        .catch(err => showError(`Javascript Error: ${err.message}<br>This usually means there's a typo in your chart specification. See the javascript console for the full traceback.`));\n",
       "    }\n",
       "\n",
       "    if(typeof define === \"function\" && define.amd) {\n",
       "      requirejs.config({paths});\n",
       "      require([\"vega-embed\"], displayChart, err => showError(`Error loading script: ${err.message}`));\n",
       "    } else if (typeof vegaEmbed === \"function\") {\n",
       "      displayChart(vegaEmbed);\n",
       "    } else {\n",
       "      loadScript(\"vega\")\n",
       "        .then(() => loadScript(\"vega-lite\"))\n",
       "        .then(() => loadScript(\"vega-embed\"))\n",
       "        .catch(showError)\n",
       "        .then(() => displayChart(vegaEmbed));\n",
       "    }\n",
       "  })({\"config\": {\"view\": {\"continuousWidth\": 400, \"continuousHeight\": 300}}, \"hconcat\": [{\"mark\": {\"type\": \"rect\", \"opacity\": 1}, \"encoding\": {\"color\": {\"condition\": {\"type\": \"quantitative\", \"aggregate\": \"mean\", \"field\": \"Velocity (km/s)\", \"selection\": \"selector001\"}, \"value\": \"grey\"}, \"tooltip\": [{\"type\": \"quantitative\", \"aggregate\": \"mean\", \"field\": \"Velocity (km/s)\"}], \"x\": {\"type\": \"temporal\", \"field\": \"Peak Brightness Date/Time (UT)\", \"timeUnit\": \"year\", \"title\": \"\"}, \"y\": {\"type\": \"temporal\", \"field\": \"Peak Brightness Date/Time (UT)\", \"timeUnit\": \"month\", \"title\": \"\"}}, \"selection\": {\"selector001\": {\"type\": \"interval\", \"empty\": \"all\"}}, \"transform\": [{\"filter\": \"datum[\\\"Velocity (km/s)\\\"] !== \\\"\\\"\"}]}, {\"mark\": {\"type\": \"rect\", \"opacity\": 1}, \"encoding\": {\"color\": {\"type\": \"quantitative\", \"aggregate\": \"mean\", \"field\": \"Velocity (km/s)\", \"scale\": {\"scheme\": \"reds\"}, \"title\": \"M\\u00e9dia da Velocidade em km/s\"}, \"tooltip\": [{\"type\": \"quantitative\", \"field\": \"Velocity (km/s)\"}], \"x\": {\"type\": \"temporal\", \"field\": \"Peak Brightness Date/Time (UT)\", \"timeUnit\": \"hours\", \"title\": \"\"}, \"y\": {\"type\": \"temporal\", \"field\": \"Peak Brightness Date/Time (UT)\", \"timeUnit\": \"date\", \"title\": \"Dia do m\\u00eas\"}}, \"transform\": [{\"filter\": {\"selection\": \"selector001\"}}, {\"filter\": \"datum[\\\"Velocity (km/s)\\\"] !== \\\"\\\"\"}]}], \"data\": {\"url\": \"https://raw.githubusercontent.com/tiagodavi70/nasaFireballs/master/cneos_fireball_data.csv\"}, \"title\": \"Arraste o mouse no gr\\u00e1fico abaixo para refletir a direita\", \"$schema\": \"https://vega.github.io/schema/vega-lite/v4.8.1.json\"}, {\"mode\": \"vega-lite\"});\n",
       "</script>"
      ],
      "text/plain": [
       "alt.HConcatChart(...)"
      ]
     },
     "execution_count": 6,
     "metadata": {},
     "output_type": "execute_result"
    }
   ],
   "source": [
    "selecao_mes = alt.selection_interval(empty=\"all\")\n",
    "\n",
    "ano_mes = alt.Chart(url).mark_rect(opacity=1).encode(\n",
    "    alt.Y(\"month(Peak Brightness Date/Time (UT)):T\", title=\"\"),\n",
    "    alt.X(\"year(Peak Brightness Date/Time (UT)):T\", title=\"\"),\n",
    "    color=alt.condition(selecao_mes, \"mean(Velocity (km/s)):Q\", alt.value(\"grey\")),\n",
    "    tooltip=[\"mean(Velocity (km/s)):Q\"]\n",
    ").transform_filter(\n",
    "    'datum[\"Velocity (km/s)\"] !== \\\"\\\"' # removendo valores vazios\n",
    ").add_selection(selecao_mes)\n",
    "\n",
    "dia_hora = alt.Chart(url).mark_rect(opacity=1).transform_filter(\n",
    "    selecao_mes\n",
    ").encode(\n",
    "    alt.Y(\"date(Peak Brightness Date/Time (UT)):T\", title=\"Dia do mês\"),\n",
    "    alt.X(\"hours(Peak Brightness Date/Time (UT)):T\", title=\"\"),\n",
    "    alt.Color(\"mean(Velocity (km/s)):Q\", title=\"Média da Velocidade em km/s\", scale=alt.Scale(scheme=\"reds\")),\n",
    "    tooltip=[\"Velocity (km/s):Q\"]\n",
    ").transform_filter(\n",
    "    'datum[\"Velocity (km/s)\"] !== \\\"\\\"' # removendo valores vazios\n",
    ")\n",
    "\n",
    "(ano_mes | dia_hora).properties(title=\"Arraste o mouse no gráfico abaixo para refletir a direita\")"
   ]
  },
  {
   "cell_type": "markdown",
   "metadata": {},
   "source": [
    "A velocidade dos meteoros não tem nenhum padrão claro de sazonalidade, nem em relação aos anos e nem do horário."
   ]
  },
  {
   "cell_type": "markdown",
   "metadata": {},
   "source": [
    "## A altitude percebida na hora de maior brilho influencia na energia?"
   ]
  },
  {
   "cell_type": "markdown",
   "metadata": {},
   "source": [
    "A altitude registrada no conjunto de dados é calculada com base no momento de maior brilho do meteorito. Vamos investigar se existe uma relação entre essa altitude registrada e as energias presentes no conjunto de dados. Antes disso, é importante ver como as energias se relacionam. Para isso, vamos procurar uma relação."
   ]
  },
  {
   "cell_type": "code",
   "execution_count": 7,
   "metadata": {},
   "outputs": [
    {
     "data": {
      "text/html": [
       "\n",
       "<div id=\"altair-viz-3c549c77bd8f404da42fa8427b306694\"></div>\n",
       "<script type=\"text/javascript\">\n",
       "  (function(spec, embedOpt){\n",
       "    let outputDiv = document.currentScript.previousElementSibling;\n",
       "    if (outputDiv.id !== \"altair-viz-3c549c77bd8f404da42fa8427b306694\") {\n",
       "      outputDiv = document.getElementById(\"altair-viz-3c549c77bd8f404da42fa8427b306694\");\n",
       "    }\n",
       "    const paths = {\n",
       "      \"vega\": \"https://cdn.jsdelivr.net/npm//vega@5?noext\",\n",
       "      \"vega-lib\": \"https://cdn.jsdelivr.net/npm//vega-lib?noext\",\n",
       "      \"vega-lite\": \"https://cdn.jsdelivr.net/npm//vega-lite@4.8.1?noext\",\n",
       "      \"vega-embed\": \"https://cdn.jsdelivr.net/npm//vega-embed@6?noext\",\n",
       "    };\n",
       "\n",
       "    function loadScript(lib) {\n",
       "      return new Promise(function(resolve, reject) {\n",
       "        var s = document.createElement('script');\n",
       "        s.src = paths[lib];\n",
       "        s.async = true;\n",
       "        s.onload = () => resolve(paths[lib]);\n",
       "        s.onerror = () => reject(`Error loading script: ${paths[lib]}`);\n",
       "        document.getElementsByTagName(\"head\")[0].appendChild(s);\n",
       "      });\n",
       "    }\n",
       "\n",
       "    function showError(err) {\n",
       "      outputDiv.innerHTML = `<div class=\"error\" style=\"color:red;\">${err}</div>`;\n",
       "      throw err;\n",
       "    }\n",
       "\n",
       "    function displayChart(vegaEmbed) {\n",
       "      vegaEmbed(outputDiv, spec, embedOpt)\n",
       "        .catch(err => showError(`Javascript Error: ${err.message}<br>This usually means there's a typo in your chart specification. See the javascript console for the full traceback.`));\n",
       "    }\n",
       "\n",
       "    if(typeof define === \"function\" && define.amd) {\n",
       "      requirejs.config({paths});\n",
       "      require([\"vega-embed\"], displayChart, err => showError(`Error loading script: ${err.message}`));\n",
       "    } else if (typeof vegaEmbed === \"function\") {\n",
       "      displayChart(vegaEmbed);\n",
       "    } else {\n",
       "      loadScript(\"vega\")\n",
       "        .then(() => loadScript(\"vega-lite\"))\n",
       "        .then(() => loadScript(\"vega-embed\"))\n",
       "        .catch(showError)\n",
       "        .then(() => displayChart(vegaEmbed));\n",
       "    }\n",
       "  })({\"config\": {\"view\": {\"continuousWidth\": 400, \"continuousHeight\": 300}}, \"data\": {\"url\": \"https://raw.githubusercontent.com/tiagodavi70/nasaFireballs/master/cneos_fireball_data.csv\"}, \"mark\": {\"type\": \"point\", \"opacity\": 0.6}, \"encoding\": {\"color\": {\"value\": \"SandyBrown\"}, \"x\": {\"type\": \"quantitative\", \"field\": \"Total Radiated Energy (J)\"}, \"y\": {\"type\": \"quantitative\", \"field\": \"Calculated Total Impact Energy (kt)\"}}, \"selection\": {\"selector002\": {\"type\": \"interval\", \"bind\": \"scales\", \"encodings\": [\"x\", \"y\"]}}, \"transform\": [{\"filter\": \"datum['Calculated Total Impact Energy (kt)'] < 400\"}], \"$schema\": \"https://vega.github.io/schema/vega-lite/v4.8.1.json\"}, {\"mode\": \"vega-lite\"});\n",
       "</script>"
      ],
      "text/plain": [
       "alt.Chart(...)"
      ]
     },
     "execution_count": 7,
     "metadata": {},
     "output_type": "execute_result"
    }
   ],
   "source": [
    "alt.Chart(url).mark_point(opacity=.6).encode(\n",
    "    alt.X('Total Radiated Energy (J):Q'),\n",
    "    alt.Y(\"Calculated Total Impact Energy (kt):Q\"),\n",
    "    color=alt.value(\"SandyBrown\")\n",
    ").transform_filter(\n",
    "    \"datum['Calculated Total Impact Energy (kt)'] < 400\" # removendo um outlier\n",
    ").interactive()"
   ]
  },
  {
   "cell_type": "markdown",
   "metadata": {},
   "source": [
    "Um ponto registrado tem valores absurdamente altos para a distribuição, e foi retirado aqui e será retirado em todos os gráficos daqui pra frente. Ainda tem alguns outros pontos com valores altos, mas para essa relação podemos ver claramente que as energias são proporcinais. Então vamos usar somente uma delas para uma visualização interativa."
   ]
  },
  {
   "cell_type": "code",
   "execution_count": 8,
   "metadata": {},
   "outputs": [
    {
     "data": {
      "text/html": [
       "\n",
       "<div id=\"altair-viz-21e6d5b4c79b41039a0b256e974042ac\"></div>\n",
       "<script type=\"text/javascript\">\n",
       "  (function(spec, embedOpt){\n",
       "    let outputDiv = document.currentScript.previousElementSibling;\n",
       "    if (outputDiv.id !== \"altair-viz-21e6d5b4c79b41039a0b256e974042ac\") {\n",
       "      outputDiv = document.getElementById(\"altair-viz-21e6d5b4c79b41039a0b256e974042ac\");\n",
       "    }\n",
       "    const paths = {\n",
       "      \"vega\": \"https://cdn.jsdelivr.net/npm//vega@5?noext\",\n",
       "      \"vega-lib\": \"https://cdn.jsdelivr.net/npm//vega-lib?noext\",\n",
       "      \"vega-lite\": \"https://cdn.jsdelivr.net/npm//vega-lite@4.8.1?noext\",\n",
       "      \"vega-embed\": \"https://cdn.jsdelivr.net/npm//vega-embed@6?noext\",\n",
       "    };\n",
       "\n",
       "    function loadScript(lib) {\n",
       "      return new Promise(function(resolve, reject) {\n",
       "        var s = document.createElement('script');\n",
       "        s.src = paths[lib];\n",
       "        s.async = true;\n",
       "        s.onload = () => resolve(paths[lib]);\n",
       "        s.onerror = () => reject(`Error loading script: ${paths[lib]}`);\n",
       "        document.getElementsByTagName(\"head\")[0].appendChild(s);\n",
       "      });\n",
       "    }\n",
       "\n",
       "    function showError(err) {\n",
       "      outputDiv.innerHTML = `<div class=\"error\" style=\"color:red;\">${err}</div>`;\n",
       "      throw err;\n",
       "    }\n",
       "\n",
       "    function displayChart(vegaEmbed) {\n",
       "      vegaEmbed(outputDiv, spec, embedOpt)\n",
       "        .catch(err => showError(`Javascript Error: ${err.message}<br>This usually means there's a typo in your chart specification. See the javascript console for the full traceback.`));\n",
       "    }\n",
       "\n",
       "    if(typeof define === \"function\" && define.amd) {\n",
       "      requirejs.config({paths});\n",
       "      require([\"vega-embed\"], displayChart, err => showError(`Error loading script: ${err.message}`));\n",
       "    } else if (typeof vegaEmbed === \"function\") {\n",
       "      displayChart(vegaEmbed);\n",
       "    } else {\n",
       "      loadScript(\"vega\")\n",
       "        .then(() => loadScript(\"vega-lite\"))\n",
       "        .then(() => loadScript(\"vega-embed\"))\n",
       "        .catch(showError)\n",
       "        .then(() => displayChart(vegaEmbed));\n",
       "    }\n",
       "  })({\"config\": {\"view\": {\"continuousWidth\": 400, \"continuousHeight\": 300, \"stroke\": \"transparent\"}}, \"hconcat\": [{\"repeat\": {\"row\": [\"Calculated Total Impact Energy (kt)\", \"Altitude (km)\"]}, \"spec\": {\"layer\": [{\"mark\": {\"type\": \"rect\", \"color\": \"SandyBrown\", \"width\": 3}, \"encoding\": {\"color\": {\"value\": \"lightgrey\"}, \"x\": {\"type\": \"quantitative\", \"bin\": {\"maxbins\": 100}, \"field\": {\"repeat\": \"row\"}}, \"y\": {\"type\": \"quantitative\", \"aggregate\": \"count\", \"title\": \"Contagem\"}}, \"selection\": {\"selector003\": {\"type\": \"interval\", \"encodings\": [\"x\"], \"resolve\": \"intersect\"}}, \"transform\": [{\"filter\": \"datum[\\\"Altitude (km)\\\"] !== \\\"\\\"\"}]}, {\"mark\": {\"type\": \"rect\", \"color\": \"SandyBrown\", \"width\": 3}, \"encoding\": {\"x\": {\"type\": \"quantitative\", \"bin\": {\"maxbins\": 100}, \"field\": {\"repeat\": \"row\"}}, \"y\": {\"type\": \"quantitative\", \"aggregate\": \"count\", \"title\": \"Contagem\"}}, \"transform\": [{\"filter\": \"datum[\\\"Altitude (km)\\\"] !== \\\"\\\"\"}, {\"filter\": {\"selection\": \"selector003\"}}]}], \"height\": 100, \"width\": 400}}, {\"mark\": {\"type\": \"point\", \"opacity\": 0.5, \"stroke\": \"darkorange\"}, \"encoding\": {\"tooltip\": [{\"type\": \"nominal\", \"field\": \"Calculated Total Impact Energy (kt)\"}, {\"type\": \"nominal\", \"field\": \"Altitude (km)\"}], \"x\": {\"type\": \"quantitative\", \"field\": \"Calculated Total Impact Energy (kt)\", \"scale\": {\"domain\": [0.03, 10], \"type\": \"log\"}, \"title\": \"Energia (escala logar\\u00edtmica)\"}, \"y\": {\"type\": \"quantitative\", \"field\": \"Altitude (km)\", \"scale\": {\"domain\": [0, 80]}}}, \"transform\": [{\"filter\": {\"selection\": \"selector003\"}}]}], \"data\": {\"url\": \"https://raw.githubusercontent.com/tiagodavi70/nasaFireballs/master/cneos_fireball_data.csv\"}, \"title\": \"Arraste o mouse nos histogramas para refletir no scatterplot\", \"transform\": [{\"filter\": \"datum['Calculated Total Impact Energy (kt)'] < 10 && datum['Altitude (km)'] !== \\\"\\\"\"}], \"$schema\": \"https://vega.github.io/schema/vega-lite/v4.8.1.json\"}, {\"mode\": \"vega-lite\"});\n",
       "</script>"
      ],
      "text/plain": [
       "alt.HConcatChart(...)"
      ]
     },
     "execution_count": 8,
     "metadata": {},
     "output_type": "execute_result"
    }
   ],
   "source": [
    "brush = alt.selection_interval(\n",
    "    encodings=['x'],\n",
    "    resolve='intersect'\n",
    ")\n",
    "\n",
    "histograma = alt.Chart().mark_rect(color=\"SandyBrown\", width=3).encode(\n",
    "    alt.X(alt.repeat('row'), type='quantitative',\n",
    "        bin=alt.Bin(maxbins=100)),\n",
    "    alt.Y(\"count()\", title=\"Contagem\")\n",
    ").transform_filter(\n",
    "    'datum[\"Altitude (km)\"] !== \\\"\\\"' # removendo valores vazios\n",
    ")\n",
    "\n",
    "hists = alt.layer(\n",
    "    histograma.add_selection(brush).encode(color=alt.value('lightgrey')),\n",
    "    histograma.transform_filter(brush)\n",
    ").properties(\n",
    "    width=400,\n",
    "    height=100\n",
    ").repeat(\n",
    "    row=[\"Calculated Total Impact Energy (kt)\", \"Altitude (km)\"],\n",
    "    data=url\n",
    ")\n",
    "\n",
    "scatterplot = alt.Chart(url).mark_point(stroke=\"darkorange\", opacity=.5).encode(\n",
    "    alt.X(\"Calculated Total Impact Energy (kt):Q\",scale=alt.Scale(type=\"log\", domain=[0.03, 10]), title=\"Energia (escala logarítmica)\"),\n",
    "    alt.Y(\"Altitude (km):Q\",scale=alt.Scale(domain=[0, 80])),\n",
    "    tooltip=[\"Calculated Total Impact Energy (kt):N\", \"Altitude (km):N\"]\n",
    ").transform_filter(brush)\n",
    "\n",
    "(hists | scatterplot).configure_view(\n",
    "    stroke='transparent' # sem outline\n",
    ").transform_filter(\n",
    "    \"datum['Calculated Total Impact Energy (kt)'] < 10 && datum['Altitude (km)'] !== \\\"\\\"\" # removendo outliers\n",
    ").properties(\n",
    "    title=\"Arraste o mouse nos histogramas para refletir no scatterplot\"\n",
    ")"
   ]
  },
  {
   "cell_type": "markdown",
   "metadata": {},
   "source": [
    "Retirando grandes valores, podemos ver melhor a distribuição, assim como mudar a escala. Podemos observar que não existe uma relação direta entre a altitude registrada e a energia radiada. "
   ]
  }
 ],
 "metadata": {
  "kernelspec": {
   "display_name": "Python 3",
   "language": "python",
   "name": "python3"
  },
  "language_info": {
   "codemirror_mode": {
    "name": "ipython",
    "version": 3
   },
   "file_extension": ".py",
   "mimetype": "text/x-python",
   "name": "python",
   "nbconvert_exporter": "python",
   "pygments_lexer": "ipython3",
   "version": "3.8.0"
  }
 },
 "nbformat": 4,
 "nbformat_minor": 4
}
